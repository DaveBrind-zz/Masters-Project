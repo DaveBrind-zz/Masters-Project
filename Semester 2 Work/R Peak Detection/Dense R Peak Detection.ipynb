{
 "cells": [
  {
   "cell_type": "code",
   "execution_count": 1,
   "metadata": {},
   "outputs": [],
   "source": [
    "# This code is to train the entire R Peak Detection algorithm as well as\n",
    "# Test it on a hold out set of three patients that will contain a mix of ECG\n",
    "# Signals. This will allow us to see how well it will perform in practise"
   ]
  },
  {
   "cell_type": "code",
   "execution_count": 2,
   "metadata": {},
   "outputs": [
    {
     "name": "stderr",
     "output_type": "stream",
     "text": [
      "Using TensorFlow backend.\n"
     ]
    }
   ],
   "source": [
    "import pickle\n",
    "import numpy as np\n",
    "import matplotlib.pyplot as plt\n",
    "# For the LSTM\n",
    "import keras\n",
    "from keras.models import Sequential\n",
    "from keras.layers import Bidirectional, LSTM, GlobalMaxPool1D, Dense, Dropout, Flatten\n",
    "# For data splitting\n",
    "from sklearn.model_selection import train_test_split\n",
    "# Potentially for analysing probability output distribution\n",
    "from scipy.signal import find_peaks\n",
    "from scipy import interpolate"
   ]
  },
  {
   "cell_type": "code",
   "execution_count": 3,
   "metadata": {},
   "outputs": [],
   "source": [
    "def normalise(x):\n",
    "    mean = np.mean(x)\n",
    "    x -= mean\n",
    "    std = np.std(x)\n",
    "    x /= std\n",
    "    return (x)"
   ]
  },
  {
   "cell_type": "code",
   "execution_count": 4,
   "metadata": {},
   "outputs": [
    {
     "name": "stdout",
     "output_type": "stream",
     "text": [
      "101\n",
      "103\n",
      "105\n",
      "107\n",
      "109\n",
      "112\n",
      "114\n",
      "118\n",
      "121\n",
      "123\n",
      "200\n",
      "202\n",
      "205\n",
      "208\n",
      "210\n",
      "213\n",
      "215\n",
      "219\n",
      "221\n",
      "223\n",
      "230\n"
     ]
    }
   ],
   "source": [
    "# Test set is full of patients: 100, 105, 116, 215, 232\n",
    "# All the other patients can be put into the training set\n",
    "\n",
    "train = [101,103,105,107,109,112,114,118,121,123,200,202,205,208,210,213,215,219,221,223,230]\n",
    "\n",
    "final_x = np.zeros((len(train), 65,10000,6), dtype=np.float32)\n",
    "final_y = np.zeros((len(train), 65, 10000), dtype=np.int32)\n",
    "\n",
    "for o,i in enumerate(train):\n",
    "    \n",
    "    print(i)\n",
    "    \n",
    "    with open('adb de-noised/{}_de-noised.pkl'.format(i), 'rb') as f:\n",
    "        smoothed = pickle.load(f)\n",
    "    \n",
    "    with open('adb final labels/adb peaks/{}_peaks.pkl'.format(i), 'rb') as f:\n",
    "        peaks = pickle.load(f)\n",
    "        \n",
    "    lead_1 = np.zeros((smoothed.shape[0],))\n",
    "    lead_2 = np.zeros((smoothed.shape[0],))\n",
    "    \n",
    "    for c,dual_point in enumerate(smoothed):\n",
    "        lead_1[c] = dual_point[0]\n",
    "        lead_2[c] = dual_point[1]\n",
    "        \n",
    "    time_stamp = 10000\n",
    "    \n",
    "    detrend_lead_1 = np.asarray([lead_1[i: i + time_stamp] for i in range(0, len(lead_1), time_stamp)])\n",
    "    detrend_lead_2 = np.asarray([lead_2[i: i + time_stamp] for i in range(0, len(lead_2), time_stamp)])\n",
    "    \n",
    "    patient_x = np.zeros((65,10000,6), dtype=np.float32)\n",
    "    \n",
    "    knot = np.arange(10,10000, 100)\n",
    "    \n",
    "    for index,chunk in enumerate(detrend_lead_1):\n",
    "        \n",
    "        tck_1 = interpolate.splrep(list(range(time_stamp)), detrend_lead_1[index],t=knot, k = 3, task = -1)\n",
    "        new_lead_1 = np.array(np.array(detrend_lead_1[index]) - np.array(interpolate.splev(list(range(time_stamp)), tck_1)), dtype = np.float32)\n",
    "        tck_2 = interpolate.splrep(list(range(time_stamp)), detrend_lead_2[index],t=knot, k = 3, task = -1)\n",
    "        new_lead_2 = np.array(np.array(detrend_lead_2[index]) - np.array(interpolate.splev(list(range(time_stamp)), tck_2)), dtype = np.float32)\n",
    "        smoothed = np.array(normalise(new_lead_1),dtype=np.float32)\n",
    "        smoothed2 = np.array(normalise(new_lead_2),dtype=np.float32)\n",
    "        deriv = np.array(np.gradient(smoothed), dtype=np.float32)\n",
    "        deriv = np.array(normalise(deriv),dtype=np.float32)\n",
    "        deriv2 = np.array(np.gradient(smoothed2),dtype=np.float32)\n",
    "        deriv2 = np.array(normalise(deriv2),dtype=np.float32)\n",
    "        deriv_2 = np.array(np.gradient(deriv),dtype=np.float32)\n",
    "        deriv_2 = np.array(normalise(deriv_2),dtype=np.float32)\n",
    "        deriv2_2 = np.array(np.gradient(deriv2),dtype=np.float32)\n",
    "        deriv2_2 = np.array(normalise(deriv2_2),dtype=np.float32)\n",
    "\n",
    "        x = np.hstack((smoothed,deriv))\n",
    "        x = np.hstack((x,deriv_2))\n",
    "        x = np.hstack((x,smoothed2))\n",
    "        x = np.hstack((x,deriv2))\n",
    "        x = np.hstack((x,deriv2_2))\n",
    "\n",
    "        new_x = np.zeros((10000, 6),dtype=np.float32)\n",
    "\n",
    "        for l in range(smoothed.shape[0]):\n",
    "            temp = np.array([smoothed[l], deriv[l], deriv_2[l], smoothed2[l], deriv2[l], deriv2_2[l]], dtype=np.float32)\n",
    "            new_x[l] = temp\n",
    "            \n",
    "        patient_x[index] = new_x\n",
    "        \n",
    "    y = np.zeros((len(lead_1),))\n",
    "\n",
    "    buffer = 2\n",
    "    \n",
    "    # Set the labels to true in buffer region\n",
    "    for k in peaks:\n",
    "        y[k - buffer: k + buffer] = 1\n",
    "    \n",
    "    patient_y = np.asarray([y[i: i + time_stamp] for i in range(0, len(y), time_stamp)], dtype=np.int32)\n",
    "    \n",
    "    # Now append these to the total\n",
    "    final_x[o] = patient_x\n",
    "    final_y[o] = patient_y"
   ]
  },
  {
   "cell_type": "code",
   "execution_count": 5,
   "metadata": {},
   "outputs": [
    {
     "name": "stdout",
     "output_type": "stream",
     "text": [
      "21\n",
      "65\n"
     ]
    }
   ],
   "source": [
    "print(len(final_x))\n",
    "print(len(final_x[0]))"
   ]
  },
  {
   "cell_type": "code",
   "execution_count": 6,
   "metadata": {},
   "outputs": [],
   "source": [
    "final_x = np.array(final_x)"
   ]
  },
  {
   "cell_type": "code",
   "execution_count": 7,
   "metadata": {},
   "outputs": [
    {
     "name": "stdout",
     "output_type": "stream",
     "text": [
      "(21, 65, 10000, 6)\n"
     ]
    }
   ],
   "source": [
    "print(final_x.shape)"
   ]
  },
  {
   "cell_type": "code",
   "execution_count": 8,
   "metadata": {},
   "outputs": [
    {
     "name": "stdout",
     "output_type": "stream",
     "text": [
      "[[-0.34905714  1.2638214  -0.4307238  -0.31873462  0.9948436  -0.30892366]\n",
      " [-0.05361141  1.1029708  -0.6215784  -0.04855742  0.8677089  -0.44579515]\n",
      " [ 0.16665316  0.7996554  -0.7631728   0.15259154  0.6279866  -0.5472967 ]\n",
      " ...\n",
      " [ 0.18009937  0.39929244  0.03904104  0.32236317  0.37895793 -0.0291106 ]\n",
      " [ 0.27519748  0.41387483  0.02961862  0.42685577  0.3437856  -0.09210816]\n",
      " [ 0.3737276   0.42121762  0.01992     0.5092235   0.3030365  -0.0988878 ]]\n"
     ]
    }
   ],
   "source": [
    "print(final_x[1][0])"
   ]
  },
  {
   "cell_type": "code",
   "execution_count": 9,
   "metadata": {},
   "outputs": [],
   "source": [
    "total = (final_x.shape[0] * final_x.shape[1] * final_x.shape[2])\n",
    "test_x = np.reshape(final_x, (total, final_x.shape[-1]))"
   ]
  },
  {
   "cell_type": "code",
   "execution_count": 10,
   "metadata": {},
   "outputs": [
    {
     "data": {
      "text/plain": [
       "(13650000, 6)"
      ]
     },
     "execution_count": 10,
     "metadata": {},
     "output_type": "execute_result"
    }
   ],
   "source": [
    "test_x.shape"
   ]
  },
  {
   "cell_type": "code",
   "execution_count": 11,
   "metadata": {},
   "outputs": [
    {
     "data": {
      "text/plain": [
       "array([-0.34905714,  1.2638214 , -0.4307238 , -0.31873462,  0.9948436 ,\n",
       "       -0.30892366], dtype=float32)"
      ]
     },
     "execution_count": 11,
     "metadata": {},
     "output_type": "execute_result"
    }
   ],
   "source": [
    "test_x[650000]\n",
    "# Re-shaping has worked so now do same for labels"
   ]
  },
  {
   "cell_type": "code",
   "execution_count": 12,
   "metadata": {},
   "outputs": [],
   "source": [
    "final_y = np.array(final_y)"
   ]
  },
  {
   "cell_type": "code",
   "execution_count": 13,
   "metadata": {},
   "outputs": [],
   "source": [
    "test_y = np.reshape(final_y, (total,))"
   ]
  },
  {
   "cell_type": "code",
   "execution_count": 14,
   "metadata": {},
   "outputs": [
    {
     "data": {
      "text/plain": [
       "(13650000,)"
      ]
     },
     "execution_count": 14,
     "metadata": {},
     "output_type": "execute_result"
    }
   ],
   "source": [
    "test_y.shape"
   ]
  },
  {
   "cell_type": "code",
   "execution_count": 15,
   "metadata": {},
   "outputs": [
    {
     "data": {
      "text/plain": [
       "array([0, 0, 0, 0, 0, 0, 0, 0, 0, 0])"
      ]
     },
     "execution_count": 15,
     "metadata": {},
     "output_type": "execute_result"
    }
   ],
   "source": [
    "test_y[:10]"
   ]
  },
  {
   "cell_type": "code",
   "execution_count": 16,
   "metadata": {},
   "outputs": [
    {
     "name": "stdout",
     "output_type": "stream",
     "text": [
      "0.014802051282051282\n",
      "0.9851979487179487\n"
     ]
    }
   ],
   "source": [
    "def proportions(y):\n",
    "    test = list(y)\n",
    "    points = test.count(1)\n",
    "    print(points/len(test))\n",
    "    print((1 - points/len(test)))\n",
    "    \n",
    "proportions(test_y)"
   ]
  },
  {
   "cell_type": "code",
   "execution_count": 17,
   "metadata": {},
   "outputs": [
    {
     "name": "stdout",
     "output_type": "stream",
     "text": [
      "WARNING:tensorflow:From C:\\Users\\David\\Anaconda3\\lib\\site-packages\\tensorflow_core\\python\\ops\\resource_variable_ops.py:1630: calling BaseResourceVariable.__init__ (from tensorflow.python.ops.resource_variable_ops) with constraint is deprecated and will be removed in a future version.\n",
      "Instructions for updating:\n",
      "If using Keras pass *_constraint arguments to layers.\n",
      "WARNING:tensorflow:From C:\\Users\\David\\Anaconda3\\lib\\site-packages\\tensorflow_core\\python\\ops\\nn_impl.py:183: where (from tensorflow.python.ops.array_ops) is deprecated and will be removed in a future version.\n",
      "Instructions for updating:\n",
      "Use tf.where in 2.0, which has the same broadcast rule as np.where\n",
      "Model: \"sequential_1\"\n",
      "_________________________________________________________________\n",
      "Layer (type)                 Output Shape              Param #   \n",
      "=================================================================\n",
      "dense_1 (Dense)              (None, 256)               1792      \n",
      "_________________________________________________________________\n",
      "dense_2 (Dense)              (None, 1)                 257       \n",
      "=================================================================\n",
      "Total params: 2,049\n",
      "Trainable params: 2,049\n",
      "Non-trainable params: 0\n",
      "_________________________________________________________________\n"
     ]
    }
   ],
   "source": [
    "initializer = \"glorot_uniform\"\n",
    "model = Sequential()\n",
    "model.add(Dense(256, activation ='relu', input_shape = (6,)))\n",
    "model.add(Dense(1, activation='sigmoid'))\n",
    "opt = keras.optimizers.Adam(lr=0.001)\n",
    "model.compile(optimizer=opt, loss = 'binary_crossentropy', metrics=[\"binary_accuracy\", \"mae\"])\n",
    "model.summary()"
   ]
  },
  {
   "cell_type": "code",
   "execution_count": 18,
   "metadata": {},
   "outputs": [
    {
     "name": "stdout",
     "output_type": "stream",
     "text": [
      "0.014826568986568986\n",
      "0.985173431013431\n",
      "0.014728498168498168\n",
      "0.9852715018315018\n"
     ]
    }
   ],
   "source": [
    "x_train, x_val, y_train, y_val = train_test_split(test_x, test_y, test_size=0.25, shuffle = True)\n",
    "proportions(y_train)\n",
    "proportions(y_val)"
   ]
  },
  {
   "cell_type": "code",
   "execution_count": 19,
   "metadata": {},
   "outputs": [
    {
     "data": {
      "text/plain": [
       "(10237500, 6)"
      ]
     },
     "execution_count": 19,
     "metadata": {},
     "output_type": "execute_result"
    }
   ],
   "source": [
    "x_train.shape"
   ]
  },
  {
   "cell_type": "code",
   "execution_count": 51,
   "metadata": {},
   "outputs": [
    {
     "name": "stdout",
     "output_type": "stream",
     "text": [
      "Train on 10237500 samples, validate on 3412500 samples\n",
      "Epoch 1/50\n",
      "10237500/10237500 [==============================] - 11s 1us/step - loss: 0.0135 - binary_accuracy: 0.9949 - mae: 0.0074 - val_loss: 0.0123 - val_binary_accuracy: 0.9953 - val_mae: 0.0071\n",
      "Epoch 2/50\n",
      "10237500/10237500 [==============================] - 11s 1us/step - loss: 0.0122 - binary_accuracy: 0.9953 - mae: 0.0071 - val_loss: 0.0122 - val_binary_accuracy: 0.9953 - val_mae: 0.0070\n",
      "Epoch 3/50\n",
      "10237500/10237500 [==============================] - 11s 1us/step - loss: 0.0120 - binary_accuracy: 0.9954 - mae: 0.0070 - val_loss: 0.0120 - val_binary_accuracy: 0.9954 - val_mae: 0.0070\n",
      "Epoch 4/50\n",
      "10237500/10237500 [==============================] - 11s 1us/step - loss: 0.0119 - binary_accuracy: 0.9954 - mae: 0.0070 - val_loss: 0.0119 - val_binary_accuracy: 0.9954 - val_mae: 0.0069\n",
      "Epoch 5/50\n",
      "10237500/10237500 [==============================] - 11s 1us/step - loss: 0.0118 - binary_accuracy: 0.9955 - mae: 0.0069 - val_loss: 0.0118 - val_binary_accuracy: 0.9955 - val_mae: 0.0070\n",
      "Epoch 6/50\n",
      "10237500/10237500 [==============================] - 11s 1us/step - loss: 0.0118 - binary_accuracy: 0.9955 - mae: 0.0069 - val_loss: 0.0117 - val_binary_accuracy: 0.9955 - val_mae: 0.0069\n",
      "Epoch 7/50\n",
      "10237500/10237500 [==============================] - 11s 1us/step - loss: 0.0117 - binary_accuracy: 0.9956 - mae: 0.0068 - val_loss: 0.0117 - val_binary_accuracy: 0.9955 - val_mae: 0.0068\n",
      "Epoch 8/50\n",
      "10237500/10237500 [==============================] - 11s 1us/step - loss: 0.0116 - binary_accuracy: 0.9956 - mae: 0.0068 - val_loss: 0.0116 - val_binary_accuracy: 0.9956 - val_mae: 0.0068\n",
      "Epoch 9/50\n",
      "10237500/10237500 [==============================] - 11s 1us/step - loss: 0.0116 - binary_accuracy: 0.9956 - mae: 0.0068 - val_loss: 0.0116 - val_binary_accuracy: 0.9956 - val_mae: 0.0068\n",
      "Epoch 10/50\n",
      "10237500/10237500 [==============================] - 11s 1us/step - loss: 0.0115 - binary_accuracy: 0.9956 - mae: 0.0067 - val_loss: 0.0115 - val_binary_accuracy: 0.9957 - val_mae: 0.0067\n",
      "Epoch 11/50\n",
      "10237500/10237500 [==============================] - 11s 1us/step - loss: 0.0114 - binary_accuracy: 0.9956 - mae: 0.0067 - val_loss: 0.0114 - val_binary_accuracy: 0.9956 - val_mae: 0.0066\n",
      "Epoch 12/50\n",
      "10237500/10237500 [==============================] - 11s 1us/step - loss: 0.0114 - binary_accuracy: 0.9957 - mae: 0.0067 - val_loss: 0.0114 - val_binary_accuracy: 0.9957 - val_mae: 0.0067\n",
      "Epoch 13/50\n",
      "10237500/10237500 [==============================] - 11s 1us/step - loss: 0.0113 - binary_accuracy: 0.9957 - mae: 0.0066 - val_loss: 0.0114 - val_binary_accuracy: 0.9957 - val_mae: 0.0068\n",
      "Epoch 14/50\n",
      "10237500/10237500 [==============================] - 11s 1us/step - loss: 0.0113 - binary_accuracy: 0.9957 - mae: 0.0066 - val_loss: 0.0113 - val_binary_accuracy: 0.9957 - val_mae: 0.0065\n",
      "Epoch 15/50\n",
      "10237500/10237500 [==============================] - 11s 1us/step - loss: 0.0113 - binary_accuracy: 0.9957 - mae: 0.0066 - val_loss: 0.0112 - val_binary_accuracy: 0.9958 - val_mae: 0.0066\n",
      "Epoch 16/50\n",
      "10237500/10237500 [==============================] - 11s 1us/step - loss: 0.0112 - binary_accuracy: 0.9957 - mae: 0.0066 - val_loss: 0.0113 - val_binary_accuracy: 0.9957 - val_mae: 0.0065\n",
      "Epoch 17/50\n",
      "10237500/10237500 [==============================] - 11s 1us/step - loss: 0.0112 - binary_accuracy: 0.9958 - mae: 0.0065 - val_loss: 0.0112 - val_binary_accuracy: 0.9958 - val_mae: 0.0066\n",
      "Epoch 18/50\n",
      "10237500/10237500 [==============================] - 11s 1us/step - loss: 0.0111 - binary_accuracy: 0.9958 - mae: 0.0065 - val_loss: 0.0111 - val_binary_accuracy: 0.9958 - val_mae: 0.0065\n",
      "Epoch 19/50\n",
      "10237500/10237500 [==============================] - 11s 1us/step - loss: 0.0111 - binary_accuracy: 0.9958 - mae: 0.0065 - val_loss: 0.0112 - val_binary_accuracy: 0.9958 - val_mae: 0.0066\n",
      "Epoch 20/50\n",
      "10237500/10237500 [==============================] - 11s 1us/step - loss: 0.0111 - binary_accuracy: 0.9958 - mae: 0.0065 - val_loss: 0.0111 - val_binary_accuracy: 0.9958 - val_mae: 0.0064\n",
      "Epoch 21/50\n",
      "10237500/10237500 [==============================] - 11s 1us/step - loss: 0.0110 - binary_accuracy: 0.9958 - mae: 0.0065 - val_loss: 0.0110 - val_binary_accuracy: 0.9958 - val_mae: 0.0064\n",
      "Epoch 22/50\n",
      "10237500/10237500 [==============================] - 11s 1us/step - loss: 0.0110 - binary_accuracy: 0.9958 - mae: 0.0064 - val_loss: 0.0110 - val_binary_accuracy: 0.9958 - val_mae: 0.0064\n",
      "Epoch 23/50\n",
      "10237500/10237500 [==============================] - 11s 1us/step - loss: 0.0110 - binary_accuracy: 0.9958 - mae: 0.0064 - val_loss: 0.0110 - val_binary_accuracy: 0.9958 - val_mae: 0.0063\n",
      "Epoch 24/50\n",
      "10237500/10237500 [==============================] - 11s 1us/step - loss: 0.0109 - binary_accuracy: 0.9958 - mae: 0.0064 - val_loss: 0.0110 - val_binary_accuracy: 0.9958 - val_mae: 0.0064\n",
      "Epoch 25/50\n",
      "10237500/10237500 [==============================] - 11s 1us/step - loss: 0.0109 - binary_accuracy: 0.9959 - mae: 0.0064 - val_loss: 0.0110 - val_binary_accuracy: 0.9958 - val_mae: 0.0065\n",
      "Epoch 26/50\n",
      "10237500/10237500 [==============================] - 11s 1us/step - loss: 0.0109 - binary_accuracy: 0.9959 - mae: 0.0064 - val_loss: 0.0109 - val_binary_accuracy: 0.9958 - val_mae: 0.0063\n",
      "Epoch 27/50\n",
      "10237500/10237500 [==============================] - 11s 1us/step - loss: 0.0109 - binary_accuracy: 0.9959 - mae: 0.0064 - val_loss: 0.0108 - val_binary_accuracy: 0.9959 - val_mae: 0.0064\n",
      "Epoch 28/50\n",
      "10237500/10237500 [==============================] - 11s 1us/step - loss: 0.0108 - binary_accuracy: 0.9959 - mae: 0.0063 - val_loss: 0.0108 - val_binary_accuracy: 0.9959 - val_mae: 0.0063\n",
      "Epoch 29/50\n",
      "10237500/10237500 [==============================] - 11s 1us/step - loss: 0.0108 - binary_accuracy: 0.9959 - mae: 0.0063 - val_loss: 0.0108 - val_binary_accuracy: 0.9959 - val_mae: 0.0063\n",
      "Epoch 30/50\n",
      "10237500/10237500 [==============================] - 11s 1us/step - loss: 0.0108 - binary_accuracy: 0.9959 - mae: 0.0063 - val_loss: 0.0108 - val_binary_accuracy: 0.9959 - val_mae: 0.0064\n",
      "Epoch 31/50\n",
      "10237500/10237500 [==============================] - 11s 1us/step - loss: 0.0108 - binary_accuracy: 0.9959 - mae: 0.0063 - val_loss: 0.0108 - val_binary_accuracy: 0.9959 - val_mae: 0.0062\n",
      "Epoch 32/50\n",
      "10237500/10237500 [==============================] - 11s 1us/step - loss: 0.0107 - binary_accuracy: 0.9959 - mae: 0.0063 - val_loss: 0.0108 - val_binary_accuracy: 0.9959 - val_mae: 0.0063\n",
      "Epoch 33/50\n",
      "10237500/10237500 [==============================] - 11s 1us/step - loss: 0.0107 - binary_accuracy: 0.9959 - mae: 0.0063 - val_loss: 0.0108 - val_binary_accuracy: 0.9959 - val_mae: 0.0064\n",
      "Epoch 34/50\n",
      "10237500/10237500 [==============================] - 11s 1us/step - loss: 0.0107 - binary_accuracy: 0.9959 - mae: 0.0062 - val_loss: 0.0107 - val_binary_accuracy: 0.9959 - val_mae: 0.0063\n",
      "Epoch 35/50\n",
      "10237500/10237500 [==============================] - 11s 1us/step - loss: 0.0107 - binary_accuracy: 0.9959 - mae: 0.0062 - val_loss: 0.0108 - val_binary_accuracy: 0.9959 - val_mae: 0.0062\n",
      "Epoch 36/50\n",
      "10237500/10237500 [==============================] - 12s 1us/step - loss: 0.0107 - binary_accuracy: 0.9959 - mae: 0.0062 - val_loss: 0.0107 - val_binary_accuracy: 0.9959 - val_mae: 0.0062\n",
      "Epoch 37/50\n",
      "10237500/10237500 [==============================] - 12s 1us/step - loss: 0.0107 - binary_accuracy: 0.9959 - mae: 0.0062 - val_loss: 0.0107 - val_binary_accuracy: 0.9959 - val_mae: 0.0062\n",
      "Epoch 38/50\n",
      "10237500/10237500 [==============================] - 11s 1us/step - loss: 0.0107 - binary_accuracy: 0.9959 - mae: 0.0062 - val_loss: 0.0107 - val_binary_accuracy: 0.9959 - val_mae: 0.0062\n",
      "Epoch 39/50\n",
      "10237500/10237500 [==============================] - 11s 1us/step - loss: 0.0106 - binary_accuracy: 0.9959 - mae: 0.0062 - val_loss: 0.0107 - val_binary_accuracy: 0.9959 - val_mae: 0.0062\n",
      "Epoch 40/50\n",
      "10237500/10237500 [==============================] - 11s 1us/step - loss: 0.0106 - binary_accuracy: 0.9959 - mae: 0.0062 - val_loss: 0.0106 - val_binary_accuracy: 0.9959 - val_mae: 0.0062\n",
      "Epoch 41/50\n",
      "10237500/10237500 [==============================] - 11s 1us/step - loss: 0.0106 - binary_accuracy: 0.9960 - mae: 0.0062 - val_loss: 0.0107 - val_binary_accuracy: 0.9959 - val_mae: 0.0063\n"
     ]
    },
    {
     "name": "stdout",
     "output_type": "stream",
     "text": [
      "Epoch 42/50\n",
      "10237500/10237500 [==============================] - 11s 1us/step - loss: 0.0106 - binary_accuracy: 0.9960 - mae: 0.0062 - val_loss: 0.0106 - val_binary_accuracy: 0.9959 - val_mae: 0.0062\n",
      "Epoch 43/50\n",
      "10237500/10237500 [==============================] - 11s 1us/step - loss: 0.0106 - binary_accuracy: 0.9960 - mae: 0.0062 - val_loss: 0.0106 - val_binary_accuracy: 0.9960 - val_mae: 0.0062\n",
      "Epoch 44/50\n",
      "10237500/10237500 [==============================] - 11s 1us/step - loss: 0.0105 - binary_accuracy: 0.9960 - mae: 0.0061 - val_loss: 0.0106 - val_binary_accuracy: 0.9959 - val_mae: 0.0062\n",
      "Epoch 45/50\n",
      "10237500/10237500 [==============================] - 11s 1us/step - loss: 0.0105 - binary_accuracy: 0.9960 - mae: 0.0061 - val_loss: 0.0106 - val_binary_accuracy: 0.9960 - val_mae: 0.0061\n",
      "Epoch 46/50\n",
      "10237500/10237500 [==============================] - 12s 1us/step - loss: 0.0105 - binary_accuracy: 0.9960 - mae: 0.0061 - val_loss: 0.0105 - val_binary_accuracy: 0.9960 - val_mae: 0.0061\n",
      "Epoch 47/50\n",
      "10237500/10237500 [==============================] - 11s 1us/step - loss: 0.0105 - binary_accuracy: 0.9960 - mae: 0.0061 - val_loss: 0.0106 - val_binary_accuracy: 0.9960 - val_mae: 0.0062\n",
      "Epoch 48/50\n",
      "10237500/10237500 [==============================] - 11s 1us/step - loss: 0.0105 - binary_accuracy: 0.9960 - mae: 0.0061 - val_loss: 0.0105 - val_binary_accuracy: 0.9960 - val_mae: 0.0061\n",
      "Epoch 49/50\n",
      "10237500/10237500 [==============================] - 11s 1us/step - loss: 0.0105 - binary_accuracy: 0.9960 - mae: 0.0061 - val_loss: 0.0105 - val_binary_accuracy: 0.9960 - val_mae: 0.0061\n",
      "Epoch 50/50\n",
      "10237500/10237500 [==============================] - 11s 1us/step - loss: 0.0105 - binary_accuracy: 0.9960 - mae: 0.0061 - val_loss: 0.0105 - val_binary_accuracy: 0.9960 - val_mae: 0.0061\n"
     ]
    }
   ],
   "source": [
    "history = model.fit(x_train, y_train, verbose=True, batch_size = 50000, validation_data = (x_val, y_val), epochs = 50)"
   ]
  },
  {
   "cell_type": "code",
   "execution_count": 65,
   "metadata": {},
   "outputs": [
    {
     "name": "stdout",
     "output_type": "stream",
     "text": [
      "3412500/3412500 [==============================] - 72s 21us/step\n"
     ]
    }
   ],
   "source": [
    "# Get a confusion matrix\n",
    "preds = model.predict(x_val, verbose = True)\n",
    "\n",
    "preds = preds.reshape((preds.shape[0],))"
   ]
  },
  {
   "cell_type": "code",
   "execution_count": 66,
   "metadata": {},
   "outputs": [
    {
     "name": "stdout",
     "output_type": "stream",
     "text": [
      "[[3357529    4710]\n",
      " [   9018   41243]]\n"
     ]
    }
   ],
   "source": [
    "from sklearn.metrics import confusion_matrix\n",
    "\n",
    "preds[preds > 0.5] = 1\n",
    "preds[preds <= 0.5] = 0\n",
    "\n",
    "print(confusion_matrix(y_val,preds))"
   ]
  },
  {
   "cell_type": "code",
   "execution_count": 76,
   "metadata": {},
   "outputs": [
    {
     "data": {
      "text/plain": [
       "[<matplotlib.lines.Line2D at 0x26626e6ccc0>,\n",
       " <matplotlib.lines.Line2D at 0x26626e6ce10>,\n",
       " <matplotlib.lines.Line2D at 0x26626e6cf60>,\n",
       " <matplotlib.lines.Line2D at 0x26626e790f0>,\n",
       " <matplotlib.lines.Line2D at 0x26626e79240>,\n",
       " <matplotlib.lines.Line2D at 0x26626e79390>]"
      ]
     },
     "execution_count": 76,
     "metadata": {},
     "output_type": "execute_result"
    },
    {
     "data": {
      "image/png": "[encoded data removed]",
      "text/plain": [
       "<Figure size 432x288 with 1 Axes>"
      ]
     },
     "metadata": {
      "needs_background": "light"
     },
     "output_type": "display_data"
    }
   ],
   "source": [
    "plt.plot(final_x[0][0][:6])"
   ]
  },
  {
   "cell_type": "code",
   "execution_count": 68,
   "metadata": {},
   "outputs": [],
   "source": [
    "confusion = confusion_matrix(y_val,preds)\n",
    "with open('Dense R Peak Results/Non-Weighted/Confusion.pkl'.format(str(i)), 'wb') as f:\n",
    "    pickle.dump(confusion,f)"
   ]
  },
  {
   "cell_type": "code",
   "execution_count": 67,
   "metadata": {},
   "outputs": [],
   "source": [
    "with open('Dense R Peak Results/Non-Weighted/History.pkl'.format(str(i)), 'wb') as f:\n",
    "    pickle.dump(history,f)\n",
    "    \n",
    "#model.save(\"RNN R Peak Detection Model_reduce_set.h5\")"
   ]
  },
  {
   "cell_type": "code",
   "execution_count": 43,
   "metadata": {},
   "outputs": [
    {
     "name": "stdout",
     "output_type": "stream",
     "text": [
      "100\n"
     ]
    }
   ],
   "source": [
    "# Test set is full of patients: 100, 105, 116, 215, 232\n",
    "# All the other patients can be put into the training set\n",
    "\n",
    "test = [100]\n",
    "\n",
    "test_x = np.zeros((len(test), 65,10000,6), dtype=np.float32)\n",
    "test_y = np.zeros((len(test), 65, 10000), dtype=np.int32)\n",
    "\n",
    "for o,i in enumerate(test):\n",
    "    \n",
    "    print(i)\n",
    "    \n",
    "    with open('adb de-noised/{}_de-noised.pkl'.format(i), 'rb') as f:\n",
    "        smoothed = pickle.load(f)\n",
    "    \n",
    "    with open('adb final labels/adb peaks/{}_peaks.pkl'.format(i), 'rb') as f:\n",
    "        peaks = pickle.load(f)\n",
    "        \n",
    "    lead_1 = np.zeros((smoothed.shape[0],))\n",
    "    lead_2 = np.zeros((smoothed.shape[0],))\n",
    "    \n",
    "    for c,dual_point in enumerate(smoothed):\n",
    "        lead_1[c] = dual_point[0]\n",
    "        lead_2[c] = dual_point[1]\n",
    "        \n",
    "    time_stamp = 10000\n",
    "    \n",
    "    detrend_lead_1 = np.asarray([lead_1[i: i + time_stamp] for i in range(0, len(lead_1), time_stamp)])\n",
    "    detrend_lead_2 = np.asarray([lead_2[i: i + time_stamp] for i in range(0, len(lead_2), time_stamp)])\n",
    "    \n",
    "    patient_x = np.zeros((65,10000,6), dtype=np.float32)\n",
    "    \n",
    "    knot = np.arange(10,10000, 100)\n",
    "    \n",
    "    for index,chunk in enumerate(detrend_lead_1):\n",
    "        \n",
    "        tck_1 = interpolate.splrep(list(range(time_stamp)), detrend_lead_1[index],t=knot, k = 3, task = -1)\n",
    "        new_lead_1 = np.array(np.array(detrend_lead_1[index]) - np.array(interpolate.splev(list(range(time_stamp)), tck_1)), dtype = np.float32)\n",
    "        tck_2 = interpolate.splrep(list(range(time_stamp)), detrend_lead_2[index],t=knot, k = 3, task = -1)\n",
    "        new_lead_2 = np.array(np.array(detrend_lead_2[index]) - np.array(interpolate.splev(list(range(time_stamp)), tck_2)), dtype = np.float32)\n",
    "        smoothed = np.array(normalise(new_lead_1),dtype=np.float32)\n",
    "        smoothed2 = np.array(normalise(new_lead_2),dtype=np.float32)\n",
    "        deriv = np.array(np.gradient(smoothed), dtype=np.float32)\n",
    "        deriv = np.array(normalise(deriv),dtype=np.float32)\n",
    "        deriv2 = np.array(np.gradient(smoothed2),dtype=np.float32)\n",
    "        deriv2 = np.array(normalise(deriv2),dtype=np.float32)\n",
    "        deriv_2 = np.array(np.gradient(deriv),dtype=np.float32)\n",
    "        deriv_2 = np.array(normalise(deriv_2),dtype=np.float32)\n",
    "        deriv2_2 = np.array(np.gradient(deriv2),dtype=np.float32)\n",
    "        deriv2_2 = np.array(normalise(deriv2_2),dtype=np.float32)\n",
    "\n",
    "        x = np.hstack((smoothed,deriv))\n",
    "        x = np.hstack((x,deriv_2))\n",
    "        x = np.hstack((x,smoothed2))\n",
    "        x = np.hstack((x,deriv2))\n",
    "        x = np.hstack((x,deriv2_2))\n",
    "\n",
    "        new_x = np.zeros((10000, 6),dtype=np.float32)\n",
    "\n",
    "        for l in range(smoothed.shape[0]):\n",
    "            temp = np.array([smoothed[l], deriv[l], deriv_2[l], smoothed2[l], deriv2[l], deriv2_2[l]], dtype=np.float32)\n",
    "            new_x[l] = temp\n",
    "            \n",
    "        patient_x[index] = new_x\n",
    "        \n",
    "    y = np.zeros((len(lead_1),))\n",
    "\n",
    "    buffer = 3\n",
    "    \n",
    "    # Set the labels to true in buffer region\n",
    "    for k in peaks:\n",
    "        y[k - buffer: k + buffer] = 1\n",
    "    \n",
    "    patient_y = np.asarray([y[i: i + time_stamp] for i in range(0, len(y), time_stamp)], dtype=np.int32)\n",
    "    \n",
    "    # Now append these to the total\n",
    "    test_x[o] = patient_x\n",
    "    test_y[o] = patient_y"
   ]
  },
  {
   "cell_type": "code",
   "execution_count": 44,
   "metadata": {},
   "outputs": [],
   "source": [
    "test_x = np.array(test_x).reshape(650000,6)"
   ]
  },
  {
   "cell_type": "code",
   "execution_count": 45,
   "metadata": {},
   "outputs": [],
   "source": [
    "test_y = np.array(test_y).reshape(650000,)"
   ]
  },
  {
   "cell_type": "code",
   "execution_count": 46,
   "metadata": {},
   "outputs": [
    {
     "name": "stdout",
     "output_type": "stream",
     "text": [
      "650000/650000 [==============================] - 14s 22us/step\n"
     ]
    }
   ],
   "source": [
    "pred = model.predict(test_x, verbose = True)"
   ]
  },
  {
   "cell_type": "code",
   "execution_count": 47,
   "metadata": {},
   "outputs": [
    {
     "data": {
      "text/plain": [
       "[<matplotlib.lines.Line2D at 0x266267bd780>]"
      ]
     },
     "execution_count": 47,
     "metadata": {},
     "output_type": "execute_result"
    },
    {
     "data": {
      "image/png": "[encoded data removed]",
      "text/plain": [
       "<Figure size 432x288 with 1 Axes>"
      ]
     },
     "metadata": {
      "needs_background": "light"
     },
     "output_type": "display_data"
    }
   ],
   "source": [
    "plt.plot(pred[:5000])"
   ]
  },
  {
   "cell_type": "code",
   "execution_count": 48,
   "metadata": {},
   "outputs": [],
   "source": [
    "pred = pred.reshape((pred.shape[0],))"
   ]
  },
  {
   "cell_type": "code",
   "execution_count": 49,
   "metadata": {},
   "outputs": [],
   "source": [
    "def accuracy_metric(new_prob_peaks, peaks):\n",
    "    # Need to find the accuracy of this height self-similarity combo\n",
    "\n",
    "    sample_window = 2\n",
    "    counts = 0\n",
    "\n",
    "    temp_list = list(new_prob_peaks)\n",
    "\n",
    "    # Loop over the true annotated peaks as well as the predicted peaks\n",
    "    for true_peak in peaks:\n",
    "        for predicted_peak in temp_list:\n",
    "\n",
    "            # If they are within the sample window either side of the true peak then allow it as a count for our case\n",
    "            if ((predicted_peak >= (true_peak - sample_window)) and (predicted_peak <= (true_peak + sample_window))):\n",
    "                counts += 1\n",
    "                # Now remove this peak from the list as it is one-to-one relation so cannot be used again\n",
    "                temp_list.remove(predicted_peak)\n",
    "                # Now break from the for loop so we do not do the other components\n",
    "                break\n",
    "            else:\n",
    "                continue\n",
    "        \n",
    "    accuracy = (counts/len(new_prob_peaks))\n",
    "    missing = abs(len(peaks) - round(accuracy*len(new_prob_peaks)))\n",
    "    wrong = (missing + round((1-accuracy) * len(new_prob_peaks)))\n",
    "    return wrong"
   ]
  },
  {
   "cell_type": "code",
   "execution_count": 50,
   "metadata": {},
   "outputs": [
    {
     "name": "stdout",
     "output_type": "stream",
     "text": [
      "1617\n",
      "3120\n",
      "2273\n"
     ]
    },
    {
     "data": {
      "text/plain": [
       "[<matplotlib.lines.Line2D at 0x26626d021d0>]"
      ]
     },
     "execution_count": 50,
     "metadata": {},
     "output_type": "execute_result"
    },
    {
     "data": {
      "image/png": "[encoded data removed]",
      "text/plain": [
       "<Figure size 432x288 with 1 Axes>"
      ]
     },
     "metadata": {
      "needs_background": "light"
     },
     "output_type": "display_data"
    }
   ],
   "source": [
    "prob_peaks, _ = find_peaks(pred, height = 0.05, distance = 10)\n",
    "new_prob_peaks = prob_peaks[lead_1[prob_peaks] > 0]\n",
    "accuracy = accuracy_metric(new_prob_peaks, peaks)\n",
    "print(accuracy)\n",
    "\n",
    "print(len(new_prob_peaks))\n",
    "\n",
    "print(len(peaks))\n",
    "\n",
    "# Plot results\n",
    "plt.plot(lead_1[:11000])\n",
    "temp = new_prob_peaks[:41]\n",
    "plt.plot(temp, lead_1[temp], \"x\")"
   ]
  },
  {
   "cell_type": "code",
   "execution_count": 30,
   "metadata": {},
   "outputs": [],
   "source": [
    "# Find indexes of elements that are 0.5"
   ]
  }
 ],
 "metadata": {
  "kernelspec": {
   "display_name": "Python 3",
   "language": "python",
   "name": "python3"
  },
  "language_info": {
   "codemirror_mode": {
    "name": "ipython",
    "version": 3
   },
   "file_extension": ".py",
   "mimetype": "text/x-python",
   "name": "python",
   "nbconvert_exporter": "python",
   "pygments_lexer": "ipython3",
   "version": "3.6.10"
  }
 },
 "nbformat": 4,
 "nbformat_minor": 2
}
