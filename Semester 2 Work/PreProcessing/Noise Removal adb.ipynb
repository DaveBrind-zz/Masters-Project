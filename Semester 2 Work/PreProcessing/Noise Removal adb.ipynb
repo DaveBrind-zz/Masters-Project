{
 "cells": [
  {
   "cell_type": "code",
   "execution_count": 1,
   "metadata": {},
   "outputs": [],
   "source": [
    "# -------- code outline ------- #\n",
    "# This code starts with a function to remove the noise from the signal. Then there's a loop that \n",
    "# reads in each file, performs the noise removal, then saves the noise removed signal as a pickle file"
   ]
  },
  {
   "cell_type": "code",
   "execution_count": 1,
   "metadata": {},
   "outputs": [],
   "source": [
    "import numpy as np\n",
    "import matplotlib.pyplot as plt \n",
    "import pickle\n",
    "import pywt \n",
    "import scipy\n",
    "from scipy import signal"
   ]
  },
  {
   "cell_type": "code",
   "execution_count": 66,
   "metadata": {},
   "outputs": [],
   "source": [
    "#  I need to de-noise both lead of the ecg signal then put it back into one array\n",
    "\n",
    "\n",
    "# -------- Noise Filtering -------- #\n",
    "# This is the function that performs the noise removal of the signal\n",
    "def DWT(signal, thresh = 0.003, wavelet=\"db4\",num_leads = 2):\n",
    "    # Make an empty array for the final de noised signal\n",
    "    de_noised = np.zeros_like(signal)\n",
    "    \n",
    "    # Loop over the number of leads, filter each one then put into de_noised array\n",
    "    for j in range(num_leads):\n",
    "        # This performs the de-noising\n",
    "        threshold = thresh*np.nanmax(signal[:,j])\n",
    "        coeff = pywt.wavedec(signal[:,j], wavelet, mode=\"smooth\")\n",
    "        coeff[14:] = (pywt.threshold(i, value=threshold, mode=\"soft\" ) for i in coeff[14:])\n",
    "        reconstructed_signal = pywt.waverec(coeff, wavelet, mode=\"smooth\" )\n",
    "        \n",
    "        de_noised[:,j] = reconstructed_signal\n",
    "    \n",
    "    \n",
    "    return de_noised"
   ]
  },
  {
   "cell_type": "code",
   "execution_count": 67,
   "metadata": {},
   "outputs": [],
   "source": [
    "# Need to loop over every patient and put the de-noised data into the de-noised folder\n",
    "# Easiest by looping over the list of names \n",
    "\n",
    "names = [100,101,102,103,104,105,106,107,108,109,111,112,113,114,115,116,117,118,119,121,122,123,\n",
    "        124,200,201,202,203,205,207,208,209,210,212,213,214,215,217,219,220,221,222,223,228,230,\n",
    "        231,232,233,234]\n",
    "\n",
    "for i,name in enumerate(names):\n",
    "    with open('/Users/Teddy/AnacondaProjects/MPhys_Project/PreProcessing/Data Extraction/Raw Data/adb arrays/{}_array.pkl'.format(name),'rb') as f:\n",
    "        data = pickle.load(f)\n",
    "        \n",
    "    denoised = DWT(data,thresh=0.2,wavelet=\"db4\",num_leads=2)\n",
    "    \n",
    "    with open('/Users/Teddy/AnacondaProjects/MPhys_Project/PreProcessing/De-Noised Data/adb de-noised/{}_de-noised.pkl'.format(i), 'wb') as f:\n",
    "        pickle.dump(denoised, f)\n",
    "    "
   ]
  },
  {
   "cell_type": "code",
   "execution_count": 62,
   "metadata": {},
   "outputs": [],
   "source": [
    "with open('/Users/Teddy/AnacondaProjects/MPhys_Project/PreProcessing/Data Extraction/Raw Data/adb arrays/201_array.pkl','rb') as f:\n",
    "    test = pickle.load(f)"
   ]
  },
  {
   "cell_type": "code",
   "execution_count": 63,
   "metadata": {},
   "outputs": [],
   "source": [
    "new_data = DWT(test, thresh = 0.2, wavelet=\"db4\",num_leads = 2)"
   ]
  },
  {
   "cell_type": "code",
   "execution_count": 65,
   "metadata": {},
   "outputs": [
    {
     "data": {
      "text/plain": [
       "[<matplotlib.lines.Line2D at 0x1c33e2b910>]"
      ]
     },
     "execution_count": 65,
     "metadata": {},
     "output_type": "execute_result"
    }
   ],
   "source": [
    "%matplotlib qt\n",
    "plt.plot(new_data[:1000,0])\n",
    "plt.plot(test[0:1000,0])\n",
    "#plt.plot(test[:200,0])"
   ]
  },
  {
   "cell_type": "code",
   "execution_count": null,
   "metadata": {},
   "outputs": [],
   "source": []
  },
  {
   "cell_type": "code",
   "execution_count": null,
   "metadata": {},
   "outputs": [],
   "source": []
  },
  {
   "cell_type": "code",
   "execution_count": 4,
   "metadata": {},
   "outputs": [
    {
     "data": {
      "text/plain": [
       "[<matplotlib.lines.Line2D at 0x1c19917190>]"
      ]
     },
     "execution_count": 4,
     "metadata": {},
     "output_type": "execute_result"
    },
    {
     "data": {
      "image/png": "[encoded data removed]",
      "text/plain": [
       "<Figure size 432x288 with 1 Axes>"
      ]
     },
     "metadata": {
      "needs_background": "light"
     },
     "output_type": "display_data"
    }
   ],
   "source": [
    "\n",
    "plt.plot(test[:250,0])"
   ]
  },
  {
   "cell_type": "code",
   "execution_count": 67,
   "metadata": {},
   "outputs": [],
   "source": [
    "def DWT2(signal, thresh = 0.003, wavelet=\"db4\",num_leads = 2):\n",
    "    # Make an empty array for the final de noised signal\n",
    "    de_noised = np.zeros_like(signal)\n",
    "    \n",
    "    # Loop over the number of leads, filter each one then put into de_noised array\n",
    "    for j in range(num_leads):\n",
    "        # This performs the de-noising\n",
    "        coeff = pywt.wavedec(signal[:,j], wavelet, mode=\"smooth\")\n",
    "        threshold = 0\n",
    "        \n",
    "        coeff[15:] = (pywt.threshold(i, value=threshold, mode=\"less\" ) for i in coeff[15:])\n",
    "        reconstructed_signal = pywt.waverec(coeff, wavelet, mode=\"smooth\" )\n",
    "        \n",
    "        de_noised[:,j] = reconstructed_signal\n",
    "    \n",
    "    \n",
    "    return de_noised"
   ]
  },
  {
   "cell_type": "code",
   "execution_count": 68,
   "metadata": {},
   "outputs": [],
   "source": [
    "new = DWT2(test)"
   ]
  },
  {
   "cell_type": "code",
   "execution_count": 69,
   "metadata": {},
   "outputs": [
    {
     "data": {
      "text/plain": [
       "[<matplotlib.lines.Line2D at 0x1c1d96c5d0>]"
      ]
     },
     "execution_count": 69,
     "metadata": {},
     "output_type": "execute_result"
    },
    {
     "data": {
      "image/png": "[encoded data removed]",
      "text/plain": [
       "<Figure size 432x288 with 1 Axes>"
      ]
     },
     "metadata": {
      "needs_background": "light"
     },
     "output_type": "display_data"
    }
   ],
   "source": [
    "\n",
    "plt.plot(new[:250,0])"
   ]
  },
  {
   "cell_type": "code",
   "execution_count": null,
   "metadata": {},
   "outputs": [],
   "source": []
  }
 ],
 "metadata": {
  "kernelspec": {
   "display_name": "Python 3",
   "language": "python",
   "name": "python3"
  },
  "language_info": {
   "codemirror_mode": {
    "name": "ipython",
    "version": 3
   },
   "file_extension": ".py",
   "mimetype": "text/x-python",
   "name": "python",
   "nbconvert_exporter": "python",
   "pygments_lexer": "ipython3",
   "version": "3.7.4"
  }
 },
 "nbformat": 4,
 "nbformat_minor": 2
}
