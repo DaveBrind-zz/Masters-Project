{
 "cells": [
  {
   "cell_type": "code",
   "execution_count": null,
   "metadata": {},
   "outputs": [],
   "source": [
    "# The annotations for the labels include the labels for each beat, the labels for rhythm changes and changes \n",
    "# in the signal quality. However, we only need the labels for the individual beats and the position of these\n",
    "# labels (ie the position of the R peaks) for the CNN and the rhythm labels for the RNN.\n",
    "# This code gets rid of the other labels and only saves the individual beat labels and get's only the rhythm \n",
    "# labels."
   ]
  },
  {
   "cell_type": "code",
   "execution_count": null,
   "metadata": {},
   "outputs": [],
   "source": [
    "import numpy as np\n",
    "import pickle \n",
    "import matplotlib.pyplot as plt\n"
   ]
  },
  {
   "cell_type": "code",
   "execution_count": null,
   "metadata": {},
   "outputs": [],
   "source": [
    "# As they're not in chronological order (and some are missing) it's easier to make a list with all the filnames \n",
    "names = [100,101,102,103,104,105,106,107,108,109,111,112,113,114,115,116,117,118,119,121,122,123,\n",
    "        124,200,201,202,203,205,207,208,209,210,212,213,214,215,217,219,220,221,222,223,228,230,\n",
    "        231,232,233,234]\n",
    "\n",
    "# This is a list of the labels that we actually want:\n",
    "\n",
    "beat_labels = ['N','L','R','A','a','J','S','V','F','!','e','j','E','/','f','x','Q','|']\n",
    "\n",
    "rhythm_labels = ['AB','AFIB','AFL','B','BII','IVR','N',\n",
    "                 'NOD','P','PREX','SBR', 'SVTA','T','VFL','VT']"
   ]
  },
  {
   "cell_type": "code",
   "execution_count": null,
   "metadata": {},
   "outputs": [],
   "source": [
    "print(len(names))"
   ]
  },
  {
   "cell_type": "code",
   "execution_count": null,
   "metadata": {},
   "outputs": [],
   "source": [
    "# This bit of code gets the locations and labels for the beats.\n",
    "with open('adb labels/106_labels.pkl','rb') as f:\n",
    "    labels = pickle.load(f)\n",
    "with open('adb label locations/106_label_locations.pkl','rb') as f:\n",
    "    label_location = pickle.load(f)\n",
    "\n",
    "beat_type = [i for i in labels if i in beat_labels]\n",
    "beat_index = [i for i,c in enumerate(labels) if c in beat_labels]\n",
    "peaks = [label_location[i] for i in beat_index]\n"
   ]
  },
  {
   "cell_type": "code",
   "execution_count": null,
   "metadata": {},
   "outputs": [],
   "source": [
    "# This bit of code gets the locations and labels for the rhythms.\n",
    "with open('adb rhythms/106_rhythms.pkl','rb') as f:\n",
    "    rhythms = pickle.load(f)\n",
    "with open('adb label locations/106_label_locations.pkl','rb') as f:\n",
    "    label_location = pickle.load(f)\n",
    "    \n",
    "\n",
    "rhythm_type = [i for i in rhythms if i in rhythm_labels]\n",
    "index = [i for i,c in enumerate(rhythms) if c in rhythm_labels]\n",
    "rhythm_locations = [label_location[i] for i in index]"
   ]
  },
  {
   "cell_type": "code",
   "execution_count": null,
   "metadata": {},
   "outputs": [],
   "source": [
    "# This is a loop that does the previous code for every file and saves the arrays\n",
    "for i,name in enumerate(names):\n",
    "    with open('adb labels/{}_labels.pkl'.format(i),'rb') as f:\n",
    "        labels = pickle.load(f)\n",
    "    with open('adb label locations/{}_label_locations.pkl'.format(i),'rb') as f:\n",
    "        label_location = pickle.load(f)\n",
    "\n",
    "    beat_type = [j for j in labels if j in beat_labels]\n",
    "    beat_index = [j for j,c in enumerate(labels) if c in beat_labels]\n",
    "    peaks = [label_location[j] for j in beat_index]\n",
    "    \n",
    "    \n",
    "    with open('adb rhythms/{}_rhythms.pkl'.format(i),'rb') as f:\n",
    "        rhythms = pickle.load(f)\n",
    "\n",
    "\n",
    "    rhythm_type = [j for j in rhythms if j in rhythm_labels]\n",
    "    index = [j for j,c in enumerate(rhythms) if c in rhythm_labels]\n",
    "    rhythm_locations = [label_location[j] for j in index]\n",
    "    \n",
    "    \n",
    "    with open('adb final labels/adb peaks/{}_peaks.pkl'.format(i), 'wb') as f:\n",
    "        pickle.dump(peaks, f)\n",
    "        \n",
    "    with open('adb final labels/adb beat labels/{}_beat_labels.pkl'.format(i), 'wb') as f:\n",
    "        pickle.dump(beat_type, f)\n",
    "        \n",
    "    with open('adb final labels/adb rhythm labels/{}_rhythm_labels.pkl'.format(i), 'wb') as f:\n",
    "        pickle.dump(rhythm_type, f)\n",
    "        \n",
    "    with open('adb final labels/adb rhythm locations/{}_rhythm_locations.pkl'.format(i), 'wb') as f:\n",
    "        pickle.dump(rhythm_locations, f)"
   ]
  },
  {
   "cell_type": "code",
   "execution_count": null,
   "metadata": {},
   "outputs": [],
   "source": [
    " with open('adb final labels/adb rhythm locations/{}_rhythm_locations.pkl'.format(0),'rb') as f:\n",
    "        rh = pickle.load(f)"
   ]
  },
  {
   "cell_type": "code",
   "execution_count": null,
   "metadata": {},
   "outputs": [],
   "source": [
    "print(rh)"
   ]
  },
  {
   "cell_type": "code",
   "execution_count": null,
   "metadata": {},
   "outputs": [],
   "source": []
  }
 ],
 "metadata": {
  "kernelspec": {
   "display_name": "Python 3",
   "language": "python",
   "name": "python3"
  },
  "language_info": {
   "codemirror_mode": {
    "name": "ipython",
    "version": 3
   },
   "file_extension": ".py",
   "mimetype": "text/x-python",
   "name": "python",
   "nbconvert_exporter": "python",
   "pygments_lexer": "ipython3",
   "version": "3.7.4"
  }
 },
 "nbformat": 4,
 "nbformat_minor": 2
}
